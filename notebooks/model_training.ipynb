{
 "cells": [
  {
   "cell_type": "markdown",
   "metadata": {},
   "source": [
    "### Load and Preprocess the Dataset"
   ]
  },
  {
   "cell_type": "code",
   "execution_count": 1,
   "metadata": {},
   "outputs": [
    {
     "name": "stdout",
     "output_type": "stream",
     "text": [
      "Training set size: (47965, 784)\n",
      "Validation set size: (11992, 784)\n"
     ]
    }
   ],
   "source": [
    "import numpy as np\n",
    "import pandas as pd\n",
    "from sklearn.model_selection import train_test_split\n",
    "from sklearn.preprocessing import StandardScaler\n",
    "\n",
    "# Load the cleaned dataset\n",
    "train_data_cleaned = pd.read_csv(\"C:/project/fashion-recommender-system/data/processed/fashion-mnist_train_cleaned.csv\")\n",
    "\n",
    "# Separate features and labels\n",
    "X = train_data_cleaned.iloc[:, 1:].values  # Pixel values\n",
    "y = train_data_cleaned.iloc[:, 0].values  # Labels (assuming the first column is the label)\n",
    "\n",
    "# Normalize pixel values (0-255 to 0-1)\n",
    "X = X / 255.0\n",
    "\n",
    "# Split the dataset into training and validation sets\n",
    "X_train, X_val, y_train, y_val = train_test_split(X, y, test_size=0.2, random_state=42, stratify=y)\n",
    "\n",
    "# Standardize the data\n",
    "scaler = StandardScaler()\n",
    "X_train = scaler.fit_transform(X_train)\n",
    "X_val = scaler.transform(X_val)\n",
    "\n",
    "print(f\"Training set size: {X_train.shape}\")\n",
    "print(f\"Validation set size: {X_val.shape}\")\n"
   ]
  },
  {
   "cell_type": "markdown",
   "metadata": {},
   "source": [
    "We load the dataset, normalize the pixel values for each image (scaling to the range 0-1), and split it into training and validation sets. Finally, we standardize the features using StandardScaler. This prepares the data for training machine learning models.\n",
    "\n"
   ]
  },
  {
   "cell_type": "markdown",
   "metadata": {},
   "source": [
    "### Logistic Regression"
   ]
  },
  {
   "cell_type": "code",
   "execution_count": 2,
   "metadata": {},
   "outputs": [
    {
     "name": "stderr",
     "output_type": "stream",
     "text": [
      "c:\\Users\\om\\anaconda3\\envs\\fashion\\Lib\\site-packages\\sklearn\\linear_model\\_logistic.py:1247: FutureWarning: 'multi_class' was deprecated in version 1.5 and will be removed in 1.7. From then on, it will always use 'multinomial'. Leave it to its default value to avoid this warning.\n",
      "  warnings.warn(\n"
     ]
    },
    {
     "name": "stdout",
     "output_type": "stream",
     "text": [
      "Logistic Regression Validation Accuracy: 0.8568\n"
     ]
    },
    {
     "name": "stderr",
     "output_type": "stream",
     "text": [
      "c:\\Users\\om\\anaconda3\\envs\\fashion\\Lib\\site-packages\\sklearn\\linear_model\\_sag.py:349: ConvergenceWarning: The max_iter was reached which means the coef_ did not converge\n",
      "  warnings.warn(\n"
     ]
    }
   ],
   "source": [
    "from sklearn.linear_model import LogisticRegression\n",
    "from sklearn.metrics import accuracy_score\n",
    "\n",
    "# Initialize Logistic Regression model\n",
    "log_reg = LogisticRegression(max_iter=100, solver='saga', multi_class='multinomial')\n",
    "\n",
    "# Train the model\n",
    "log_reg.fit(X_train, y_train)\n",
    "\n",
    "# Predict on the validation set\n",
    "y_pred_log_reg = log_reg.predict(X_val)\n",
    "\n",
    "# Evaluate the model\n",
    "log_reg_accuracy = accuracy_score(y_val, y_pred_log_reg)\n",
    "print(f\"Logistic Regression Validation Accuracy: {log_reg_accuracy:.4f}\")\n"
   ]
  },
  {
   "cell_type": "markdown",
   "metadata": {},
   "source": [
    "Here, we apply logistic regression using the multinomial solver (saga) to handle multi-class classification. The performance is evaluated using validation accuracy. Logistic Regression provides a good baseline for comparison with more complex models.\n",
    "\n"
   ]
  },
  {
   "cell_type": "markdown",
   "metadata": {},
   "source": [
    "\n",
    "###  Support Vector Machine (SVM)"
   ]
  },
  {
   "cell_type": "code",
   "execution_count": 3,
   "metadata": {},
   "outputs": [
    {
     "name": "stdout",
     "output_type": "stream",
     "text": [
      "SVM Validation Accuracy: 0.8439\n"
     ]
    }
   ],
   "source": [
    "from sklearn.svm import SVC\n",
    "\n",
    "# Initialize Support Vector Machine model\n",
    "svm_model = SVC(kernel='linear')\n",
    "\n",
    "# Train the model\n",
    "svm_model.fit(X_train, y_train)\n",
    "\n",
    "# Predict on the validation set\n",
    "y_pred_svm = svm_model.predict(X_val)\n",
    "\n",
    "# Evaluate the model\n",
    "svm_accuracy = accuracy_score(y_val, y_pred_svm)\n",
    "print(f\"SVM Validation Accuracy: {svm_accuracy:.4f}\")\n"
   ]
  },
  {
   "cell_type": "markdown",
   "metadata": {},
   "source": [
    "We implement a linear Support Vector Machine (SVM). This model works well for smaller datasets and linear classification problems. After training, we evaluate its performance using accuracy on the validation set.\n",
    "\n"
   ]
  },
  {
   "cell_type": "markdown",
   "metadata": {},
   "source": [
    "### Random Forest Classifier"
   ]
  },
  {
   "cell_type": "code",
   "execution_count": 4,
   "metadata": {},
   "outputs": [
    {
     "name": "stdout",
     "output_type": "stream",
     "text": [
      "Random Forest Validation Accuracy: 0.8797\n"
     ]
    }
   ],
   "source": [
    "from sklearn.ensemble import RandomForestClassifier\n",
    "\n",
    "# Initialize Random Forest Classifier\n",
    "rf_model = RandomForestClassifier(n_estimators=100, random_state=42)\n",
    "\n",
    "# Train the model\n",
    "rf_model.fit(X_train, y_train)\n",
    "\n",
    "# Predict on the validation set\n",
    "y_pred_rf = rf_model.predict(X_val)\n",
    "\n",
    "# Evaluate the model\n",
    "rf_accuracy = accuracy_score(y_val, y_pred_rf)\n",
    "print(f\"Random Forest Validation Accuracy: {rf_accuracy:.4f}\")\n"
   ]
  },
  {
   "cell_type": "markdown",
   "metadata": {},
   "source": [
    "Random Forest is a versatile and powerful ensemble learning method. It builds multiple decision trees and averages their predictions to improve accuracy and prevent overfitting. The accuracy of this model is compared to previous models.\n",
    "\n"
   ]
  },
  {
   "cell_type": "markdown",
   "metadata": {},
   "source": [
    "### Hyperparameter Tuning (Random Forest)"
   ]
  },
  {
   "cell_type": "code",
   "execution_count": 5,
   "metadata": {},
   "outputs": [
    {
     "name": "stdout",
     "output_type": "stream",
     "text": [
      "Fitting 3 folds for each of 27 candidates, totalling 81 fits\n",
      "Best Parameters: {'max_depth': 30, 'min_samples_split': 2, 'n_estimators': 200}\n",
      "Best Random Forest Validation Accuracy: 0.8803\n"
     ]
    }
   ],
   "source": [
    "from sklearn.model_selection import GridSearchCV\n",
    "\n",
    "# Define parameter grid for Random Forest\n",
    "param_grid = {\n",
    "    'n_estimators': [50, 100, 200],\n",
    "    'max_depth': [10, 20, 30],\n",
    "    'min_samples_split': [2, 5, 10]\n",
    "}\n",
    "\n",
    "# Initialize Grid Search\n",
    "grid_search = GridSearchCV(RandomForestClassifier(), param_grid, cv=3, verbose=1, n_jobs=-1)\n",
    "\n",
    "# Fit the model using grid search\n",
    "grid_search.fit(X_train, y_train)\n",
    "\n",
    "# Best parameters and accuracy\n",
    "print(f\"Best Parameters: {grid_search.best_params_}\")\n",
    "best_rf_accuracy = grid_search.score(X_val, y_val)\n",
    "print(f\"Best Random Forest Validation Accuracy: {best_rf_accuracy:.4f}\")\n"
   ]
  },
  {
   "cell_type": "markdown",
   "metadata": {},
   "source": [
    "GridSearchCV helps find the best hyperparameters for the Random Forest model by evaluating combinations of the number of trees (n_estimators), tree depth (max_depth), and minimum samples for splitting nodes (min_samples_split). The model's performance is measured using cross-validation, and the best combination is selected for final evaluation"
   ]
  },
  {
   "cell_type": "markdown",
   "metadata": {},
   "source": [
    "###  Save the Best Model"
   ]
  },
  {
   "cell_type": "code",
   "execution_count": 6,
   "metadata": {},
   "outputs": [
    {
     "data": {
      "text/plain": [
       "['best_rf_model.pkl']"
      ]
     },
     "execution_count": 6,
     "metadata": {},
     "output_type": "execute_result"
    }
   ],
   "source": [
    "import joblib\n",
    "\n",
    "# Save the best performing model (Random Forest after GridSearch)\n",
    "joblib.dump(grid_search.best_estimator_, 'best_rf_model.pkl')\n"
   ]
  },
  {
   "cell_type": "markdown",
   "metadata": {},
   "source": [
    "The best-performing model is saved using joblib, allowing for easy deployment or reuse in a recommendation system later.\n",
    "\n"
   ]
  },
  {
   "cell_type": "markdown",
   "metadata": {},
   "source": [
    "### Cross-Validation"
   ]
  },
  {
   "cell_type": "code",
   "execution_count": 7,
   "metadata": {},
   "outputs": [
    {
     "name": "stdout",
     "output_type": "stream",
     "text": [
      "Cross-Validation Scores: [0.88116335 0.8739706  0.88866882 0.87991244 0.87668091]\n",
      "Mean CV Score: 0.8801\n"
     ]
    }
   ],
   "source": [
    "from sklearn.model_selection import cross_val_score\n",
    "\n",
    "# Perform 5-fold cross-validation on Random Forest model\n",
    "rf_cv_scores = cross_val_score(grid_search.best_estimator_, X_train, y_train, cv=5)\n",
    "\n",
    "print(f\"Cross-Validation Scores: {rf_cv_scores}\")\n",
    "print(f\"Mean CV Score: {np.mean(rf_cv_scores):.4f}\")\n"
   ]
  },
  {
   "cell_type": "markdown",
   "metadata": {},
   "source": [
    "This step applies k-fold cross-validation (k=5) to ensure the model’s robustness and generalization ability. Cross-validation helps mitigate issues with overfitting by training the model on different subsets of the training data.\n",
    "\n"
   ]
  },
  {
   "cell_type": "markdown",
   "metadata": {},
   "source": [
    "### Feature Importance (For Random Forest)"
   ]
  },
  {
   "cell_type": "code",
   "execution_count": 8,
   "metadata": {},
   "outputs": [
    {
     "data": {
      "image/png": "[encoded data removed]",
      "text/plain": [
       "<Figure size 1000x600 with 1 Axes>"
      ]
     },
     "metadata": {},
     "output_type": "display_data"
    }
   ],
   "source": [
    "import matplotlib.pyplot as plt\n",
    "\n",
    "# Extract feature importances from the Random Forest model\n",
    "importances = grid_search.best_estimator_.feature_importances_\n",
    "\n",
    "# Plot the top 20 important features\n",
    "plt.figure(figsize=(10, 6))\n",
    "plt.barh(range(20), importances[:20], align='center')\n",
    "plt.xlabel(\"Feature Importance\")\n",
    "plt.ylabel(\"Pixel Index\")\n",
    "plt.title(\"Top 20 Important Features in Random Forest\")\n",
    "plt.show()\n"
   ]
  },
  {
   "cell_type": "markdown",
   "metadata": {},
   "source": [
    "This step highlights the most important features (pixels) that contribute to the model’s decision-making process. Visualizing feature importance can give insights into how the model interprets the data.\n",
    "\n"
   ]
  },
  {
   "cell_type": "markdown",
   "metadata": {},
   "source": []
  }
 ],
 "metadata": {
  "kernelspec": {
   "display_name": "fashion",
   "language": "python",
   "name": "python3"
  },
  "language_info": {
   "codemirror_mode": {
    "name": "ipython",
    "version": 3
   },
   "file_extension": ".py",
   "mimetype": "text/x-python",
   "name": "python",
   "nbconvert_exporter": "python",
   "pygments_lexer": "ipython3",
   "version": "3.12.7"
  }
 },
 "nbformat": 4,
 "nbformat_minor": 2
}
